{
 "cells": [
  {
   "cell_type": "code",
   "execution_count": 1,
   "metadata": {},
   "outputs": [],
   "source": [
    "import matplotlib.pyplot as plt\n",
    "import numpy as np\n",
    "import sys\n",
    "sys.path.append('../src')\n",
    "from nsc_model import nsc_model\n",
    "from Constants import Constants\n",
    "from scipy.integrate import quad\n",
    "from astropy.table import Table\n",
    "\n",
    "c=Constants()\n",
    "\n",
    "%matplotlib inline\n",
    "\n",
    "# set some figure options\n",
    "plt.rcParams['figure.figsize'] = (6,5)\n",
    "plt.rcParams['legend.fontsize'] = 14\n",
    "plt.rcParams['legend.borderpad'] = 0.2\n",
    "plt.rcParams['legend.labelspacing'] = 0.2\n",
    "plt.rcParams['legend.handletextpad'] = 0.5\n",
    "plt.rcParams['font.family'] = 'stixgeneral'\n",
    "plt.rcParams['mathtext.fontset'] = 'stix'\n",
    "plt.rcParams['font.size'] = 16"
   ]
  },
  {
   "cell_type": "markdown",
   "metadata": {},
   "source": [
    "# random walk example (via 2-body scattering)"
   ]
  },
  {
   "cell_type": "code",
   "execution_count": 2,
   "metadata": {},
   "outputs": [
    {
     "data": {
      "text/plain": [
       "<matplotlib.legend.Legend at 0x114012748>"
      ]
     },
     "execution_count": 2,
     "metadata": {},
     "output_type": "execute_result"
    },
    {
     "data": {
      "image/png": "[encoded data removed]",
      "text/plain": [
       "<Figure size 432x288 with 1 Axes>"
      ]
     },
     "metadata": {
      "needs_background": "light"
     },
     "output_type": "display_data"
    }
   ],
   "source": [
    "n=nsc_model(Mbh=1.e6*c.msun,  # black hole mass of 1e6 solar masses\n",
    "            ms=c.msun,        # stellar mass of 1 solar mass\n",
    "            gamma=2,         # rho(r) \\propto r^-gamma, here we set gamma=2\n",
    "            rm_o_rh=1.,       # r_m / r_h -- the ratio of the radius enclosing a certain mass of stars to the sphere of influence radius \n",
    "            mrm_o_mbh=2.)     # mass in stars / Mbh within r_m\n",
    "\n",
    "rt = 1*(n.Mbh/n.ms)**(1./3.)*1*n.c.rsun  # specify the tidal radius\n",
    "\n",
    "# establish some initial energy/angular momentum condition\n",
    "E0 = n.E(c.pc)\n",
    "J0  = 30*n.Jlc(E0,rt)\n",
    "\n",
    "# loop over orbits\n",
    "Norb = 60\n",
    "\n",
    "E = E0\n",
    "J = J0\n",
    "t = 0.0\n",
    "data_arr = []\n",
    "for i in range(Norb):\n",
    "    data_arr.append([i,t,E,J])\n",
    "    \n",
    "    # delta E and Delta J are drawn from normal distributions with sigma = RMS \n",
    "    a = n.a(E)\n",
    "    DeltaE = np.random.normal(scale=n.DeltaErms(a))\n",
    "    DeltaJ = np.random.normal(scale=n.DeltaJrms(a))\n",
    "    Porb = n.P(a)\n",
    "    \n",
    "    \n",
    "    # update\n",
    "    E += DeltaE\n",
    "    J += DeltaJ\n",
    "    t += Porb\n",
    "    \n",
    "    \n",
    "    \n",
    "EJ_time = Table(np.array(data_arr),names=['orb','time','E','J'])\n",
    "\n",
    "plt.plot(EJ_time['time']/(1.e6*c.yr),EJ_time['E']/EJ_time['E'][0],'+-',label=r'$E/E_0$')\n",
    "plt.plot(EJ_time['time']/(1.e6*c.yr),EJ_time['J']/n.Jc(n.a(E0)),'+-',label=r'$J/J_{\\rm circ}$')\n",
    "\n",
    "plt.xlabel('time [Myr]')\n",
    "plt.legend(loc='best')"
   ]
  },
  {
   "cell_type": "code",
   "execution_count": null,
   "metadata": {
    "collapsed": true
   },
   "outputs": [],
   "source": []
  },
  {
   "cell_type": "code",
   "execution_count": null,
   "metadata": {
    "collapsed": true
   },
   "outputs": [],
   "source": []
  }
 ],
 "metadata": {
  "anaconda-cloud": {},
  "kernelspec": {
   "display_name": "Python 3",
   "language": "python",
   "name": "python3"
  },
  "language_info": {
   "codemirror_mode": {
    "name": "ipython",
    "version": 3
   },
   "file_extension": ".py",
   "mimetype": "text/x-python",
   "name": "python",
   "nbconvert_exporter": "python",
   "pygments_lexer": "ipython3",
   "version": "3.7.3"
  }
 },
 "nbformat": 4,
 "nbformat_minor": 1
}
