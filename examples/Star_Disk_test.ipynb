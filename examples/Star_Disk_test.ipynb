{
 "cells": [
  {
   "cell_type": "code",
   "execution_count": 1,
   "metadata": {},
   "outputs": [],
   "source": [
    "import matplotlib.pyplot as plt\n",
    "import numpy as np\n",
    "from astropy.table import Table\n",
    "import sys\n",
    "sys.path.append('../src')\n",
    "from Constants import Constants\n",
    "from star_disk import orbit,disk,disk_Q,star_disk\n",
    "\n",
    "c=Constants()\n",
    "\n",
    "%matplotlib inline\n",
    "\n",
    "# set some global options\n",
    "plt.rcParams['figure.figsize'] = (6,5)\n",
    "plt.rcParams['legend.frameon'] = False\n",
    "plt.rcParams['legend.fontsize'] = 14\n",
    "plt.rcParams['legend.borderpad'] = 0.2\n",
    "plt.rcParams['legend.labelspacing'] = 0.2\n",
    "plt.rcParams['legend.handletextpad'] = 0.5\n",
    "plt.rcParams['font.family'] = 'stixgeneral'\n",
    "plt.rcParams['mathtext.fontset'] = 'stix'\n",
    "plt.rcParams['font.size'] = 16"
   ]
  },
  {
   "cell_type": "code",
   "execution_count": 2,
   "metadata": {},
   "outputs": [
    {
     "name": "stdout",
     "output_type": "stream",
     "text": [
      "f_in, f_out= -0.14159265358979312 3.0\n",
      "h= [5.96859792e+23 4.18712218e+24 7.74195336e+24]\n",
      "-5.9252092192268495e+23\n",
      "--------- INITIAL, FINAL ELEMENTS ---------------------\n",
      "a= 3.085677581e+17 3.0856775810000416e+17\n",
      "e= 0.9 0.9000000000000014\n",
      "OMEGA= 3 3.0\n",
      "omega= -3 -3.0\n",
      "I= 0.5 0.4999999999999999\n",
      "f= -0.14159265358979312 -0.14159265358979303\n",
      "omega+f= -3.141592653589793 -3.141592653589793\n"
     ]
    }
   ],
   "source": [
    "### TEST OF ORBIT CLASS\n",
    "orb = orbit(1.e7*c.msun)\n",
    "\n",
    "a = 0.1*c.pc        # 0<a<inf\n",
    "e = 0.9             # 0<e<1\n",
    "OMEGA = 3          # -pi<OMEGA<pi\n",
    "omega = -3          # -pi<omega<pi\n",
    "I = 0.5             # 0<I<pi\n",
    "f_in,f_out = orb.f_node_crossings(omega)\n",
    "print (\"f_in, f_out=\",f_in, f_out)  # -pi<f<pi\n",
    "\n",
    "my_ele = (a,e,OMEGA,omega,I, f_in)\n",
    "POS,VEL = orb.elements_to_POS_VEL(my_ele)\n",
    "print (\"h=\",orb.h_vec(POS,VEL))\n",
    "new_ele = orb.POS_VEL_to_elements(POS,VEL)\n",
    "print ((POS[0]*VEL[0] + POS[1]*VEL[1] + POS[2]*VEL[2]))\n",
    "\n",
    "print (\"--------- INITIAL, FINAL ELEMENTS ---------------------\")\n",
    "print (\"a=\",my_ele[0], new_ele[0])\n",
    "print (\"e=\",my_ele[1], new_ele[1])\n",
    "print (\"OMEGA=\",my_ele[2], new_ele[2])\n",
    "print (\"omega=\",my_ele[3], new_ele[3])\n",
    "print (\"I=\",my_ele[4], new_ele[4])\n",
    "print (\"f=\",my_ele[5], new_ele[5])\n",
    "print (\"omega+f=\",my_ele[3]+my_ele[5], new_ele[3]+new_ele[5])"
   ]
  },
  {
   "cell_type": "code",
   "execution_count": 3,
   "metadata": {},
   "outputs": [
    {
     "name": "stdout",
     "output_type": "stream",
     "text": [
      "Mdot_Edd =  0.22182035411211506 (msun/yr) Mdot_disk = 0.22182035411211506 (msun/yr)\n",
      "H/R =  0.011827511315732465\n"
     ]
    },
    {
     "data": {
      "text/plain": [
       "(-3.375252546202963e+18,\n",
       " 3.393340920390617e+18,\n",
       " -3.3892673858997883e+18,\n",
       " 3.3892673858997883e+18)"
      ]
     },
     "execution_count": 3,
     "metadata": {},
     "output_type": "execute_result"
    },
    {
     "data": {
      "image/png": "[encoded data removed]",
      "text/plain": [
       "<Figure size 432x288 with 1 Axes>"
      ]
     },
     "metadata": {
      "needs_background": "light"
     },
     "output_type": "display_data"
    }
   ],
   "source": [
    "d = disk_Q(Mbh=1.e7*c.msun,\n",
    "               ms=c.msun,\n",
    "               rs=c.msun,\n",
    "               lambda_disk=1,\n",
    "               alpha_disk=1,\n",
    "               Q_disk=1.0)\n",
    "\n",
    "\n",
    "print (\"H/R = \",d.h(0.1*c.pc) )\n",
    "\n",
    "# CHECK THAT DISK VECTORS ARE CORRECT\n",
    "ph = np.linspace(0,2*np.pi,30)\n",
    "xx = c.pc * np.cos(ph)\n",
    "yy = c.pc * np.sin(ph)\n",
    "pos = np.array([xx,yy,np.zeros_like(xx)]).T\n",
    "vel = []\n",
    "for p in pos:\n",
    "    vel.append(d.VDISK(p))\n",
    "vel = np.array(vel)\n",
    "\n",
    "\n",
    "plt.quiver(xx,yy,vel[:,0],vel[:,1])\n",
    "plt.axis('equal')"
   ]
  },
  {
   "cell_type": "code",
   "execution_count": 4,
   "metadata": {},
   "outputs": [
    {
     "name": "stdout",
     "output_type": "stream",
     "text": [
      "Mdot_Edd =  0.22182035411211506 (msun/yr) Mdot_disk = 0.22182035411211506 (msun/yr)\n",
      "f= 30.0\n",
      "e= 0.9997184643209045\n",
      "--------- INITIAL, FINAL ELEMENTS ---------------------\n",
      "a= 1.59668145621683e+18 1.216636043261553e+18 9.827316305923878e+17\n",
      "e= 0.9997184643209045 0.9996305183840483 0.9995425745025048\n",
      "rp/rt= 30.000000000003137 30.00012367877205 30.00012367877205\n",
      "------------------------------\n",
      "E= -415692997132087.5\n",
      "dE= -259699225259193.25\n",
      "dE/E= 0.6247380327570762\n",
      "h= 1.0923725598960985e+24\n",
      "dh= -4.353824904879643e+19\n",
      "dh/h= -3.9856593480284406e-05\n"
     ]
    }
   ],
   "source": [
    "s=star_disk(Mbh=1.e7*c.msun,\n",
    "            ms=c.msun,\n",
    "            rs=c.rsun,\n",
    "            lambda_disk=1,\n",
    "            alpha_disk =1,\n",
    "            Q_disk=1,\n",
    "            gamma=1.5)    \n",
    "\n",
    "f = 30.\n",
    "rt = (s.Mbh/s.ms)**(1./3.)*s.rs\n",
    "a = 0.1*s.n.r_h     # 0<a<inf\n",
    "e = 1.-f*rt/a         # 0<e<1\n",
    "OMEGA = 0.25        # -pi<OMEGA<pi\n",
    "omega = np.pi/2     # 0<omega<pi\n",
    "I = np.pi/4         # 0<I<pi\n",
    "my_ele = (a,e,OMEGA,omega,I)\n",
    "\n",
    "print (\"f=\",f)\n",
    "print (\"e=\",e)\n",
    "\n",
    "my_ele = (a,e,OMEGA,omega,I)\n",
    "c1_ele = s.disk_cross(my_ele,direction=\"in\")\n",
    "c2_ele = s.disk_cross(c1_ele,direction=\"out\")\n",
    "\n",
    "dE,E,dh,h = s.orb_delta_EJ(my_ele)\n",
    "\n",
    "print (\"--------- INITIAL, FINAL ELEMENTS ---------------------\")\n",
    "print (\"a=\",my_ele[0], c1_ele[0], c2_ele[0])\n",
    "print (\"e=\",my_ele[1], c1_ele[1], c2_ele[1])\n",
    "print (\"rp/rt=\",my_ele[0]*(1.-my_ele[1])/rt,c1_ele[0]*(1.-c1_ele[1])/rt,c1_ele[0]*(1.-c1_ele[1])/rt)\n",
    "\n",
    "print (\"------------------------------\")\n",
    "print (\"E=\",E)\n",
    "print (\"dE=\",dE)\n",
    "print (\"dE/E=\",dE/E)\n",
    "print (\"h=\",h)\n",
    "print (\"dh=\",dh)\n",
    "print (\"dh/h=\",dh/h)"
   ]
  },
  {
   "cell_type": "code",
   "execution_count": null,
   "metadata": {},
   "outputs": [],
   "source": []
  }
 ],
 "metadata": {
  "anaconda-cloud": {},
  "kernelspec": {
   "display_name": "Python 3",
   "language": "python",
   "name": "python3"
  },
  "language_info": {
   "codemirror_mode": {
    "name": "ipython",
    "version": 3
   },
   "file_extension": ".py",
   "mimetype": "text/x-python",
   "name": "python",
   "nbconvert_exporter": "python",
   "pygments_lexer": "ipython3",
   "version": "3.7.3"
  }
 },
 "nbformat": 4,
 "nbformat_minor": 1
}
